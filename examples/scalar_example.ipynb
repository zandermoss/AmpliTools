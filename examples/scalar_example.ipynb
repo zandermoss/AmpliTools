{
 "cells": [
  {
   "cell_type": "markdown",
   "metadata": {
    "tags": []
   },
   "source": [
    "# Scalar Amplitudes with AmpliTools\n",
    "### Compute the 4- and 5-point tree amplitudes of a scalar QFT in arbitrary spacetime dimension with an arbitary spectrum of (massive or massless) states.\n",
    "Given arbitrary (local) interaction operators specified by flavor tensors and polynomials of Mandelstam invariants, AmpliTools\n",
    "1. computes the relevant (tree) diagram topologies,\n",
    "2. constructs their symbolic expressions from Feynman rules,\n",
    "3. reduces these expressions modulo symmetries of the interaction flavor tensors,\n",
    "4. reduces them modulo the on-shell and momentum-conservation constraints, and finally\n",
    "5. expresses the resulting amplitude as a rational function over a minimal kinematic basis with one free flavor index for each external leg.\n",
    "\n",
    "- The amplitudes of particular theories are obtained by substituting explicit expressions for scalar masses and interaction flavor tensors (Wilson coefficients) and fixing the free flavor indices.\n",
    "- However, one can also study general properties of scalar theories with local interactions using the expressions from AmpliTools.\n",
    "- For example, by constructing the leading terms of the Laurent series of the general 4- and 5-point scalar amplitudes and demanding they vanish in the IR (zero-energy) limit, one obtains algebraic constraints on the cubic and quartic interaction flavor tensors which are necessary and sufficient for the theory to exhibit an Adler zero (see https://arxiv.org/abs/2012.13076)."
   ]
  },
  {
   "cell_type": "markdown",
   "metadata": {},
   "source": [
    "### Imports/Path"
   ]
  },
  {
   "cell_type": "code",
   "execution_count": 1,
   "metadata": {
    "tags": []
   },
   "outputs": [],
   "source": [
    "import sys\n",
    "TFDirectory = \"../src\"\n",
    "sys.path.append(TFDirectory)\n",
    "\n",
    "import os\n",
    "import psutil\n",
    "from tqdm import tqdm\n",
    "import networkx as nx\n",
    "import sympy\n",
    "from sympy import symbols,I\n",
    "sympy.init_printing()\n",
    "import matplotlib.pyplot as plt\n",
    "from IPython.display import display, clear_output\n",
    "import time\n",
    "import math\n",
    "\n",
    "from Interface import Interface, FeynmanRules, TensorSymmetries\n",
    "from Spin0Basis import Basis\n",
    "from MRational import MRational\n",
    "from AT2Mathematica import MRational2File\n",
    "from PermutationTools import SymmetricPartitionPerms\n",
    "from SignedPermutations import SignedPermutationGroup, SignedPermutation\n",
    "from TensorTools import TensorIndexReplacement\n",
    "from Graph import ComputeTreeAmplitude"
   ]
  },
  {
   "cell_type": "markdown",
   "metadata": {},
   "source": [
    "### SymPy Variables"
   ]
  },
  {
   "cell_type": "code",
   "execution_count": 2,
   "metadata": {},
   "outputs": [],
   "source": [
    "#Max number of external legs\n",
    "nmax = 6\n",
    "\n",
    "#Declare sympy variables.\n",
    "momentum_symbols = [symbols('p'+str(i)) for i in range(1,nmax+1)]\n",
    "polarization_symbols = [symbols('e'+str(i)) for i in range(1,nmax+1)]\n",
    "mass_symbols = [symbols('m_'+str(i)) for i in range(1,nmax+1)]\n",
    "mass_tensors = [symbols('m_{f'+str(i)+'}') for i in range(1,nmax+1)]\n",
    "m_phi = symbols('m_\\phi')"
   ]
  },
  {
   "cell_type": "markdown",
   "metadata": {},
   "source": [
    "### Flavor Tensors and Symmetries\n",
    "- Each flavor tensor is associated with three pieces of data:\n",
    "1. a string \"head_{indices}\", e.g. \"A_{f1f2f3}\",\n",
    "2. a sympy variable, and\n",
    "3. a TensorSymmetry object, which encodes the index permutation symmetries, and associated signs.\n",
    "\n",
    "- RegisterSymmetry() takes tensor heads, generators, and generator signs as arguments.\n",
    "- Here, \"sign\" does not refer to the sign of the permutation in the group theoretic sense,but rather to the phase induced by a particular permutation of the states. \n",
    "- Fermionic symmetries will contribue such phases, but we'll work with bosons here.\n",
    "- Indices of the form f# denote \"free\", or external-leg indices. Indices b#, on the other hand, denote \"bound\" (internal line) indices."
   ]
  },
  {
   "cell_type": "code",
   "execution_count": 3,
   "metadata": {
    "tags": []
   },
   "outputs": [],
   "source": [
    "#Define flavor/color tensors and specify their symmetries.\n",
    "tensym = TensorSymmetries()\n",
    "ID_f1f2 = symbols('ID_{f1f2}')\n",
    "tensym.RegisterSymmetry(\"ID\",[([2,1],1),])\n",
    "A_f1f2f3 = symbols('A_{f1f2f3}')\n",
    "tensym.RegisterSymmetry(\"A\",[([2,1,3],1),([1,3,2],1)])\n",
    "B_f1f2f3f4 = symbols('B_{f1f2f3f4}')\n",
    "tensym.RegisterSymmetry(\"B\",[([2,1,3,4],1),([1,3,2,4],1),([1,2,4,3],1)])\n",
    "\n",
    "flavor_tensors = [ID_f1f2, A_f1f2f3, B_f1f2f3f4]\n",
    "coefficient_symbols = mass_symbols + mass_tensors + [m_phi,] + flavor_tensors\n",
    "coefficient_display_map = {}"
   ]
  },
  {
   "cell_type": "markdown",
   "metadata": {},
   "source": [
    "### Constructing the Interface\n",
    "- The Interface class provides a UI geared toward the Jupyter notebook.\n",
    "- Primarily, the interface converts between various representations of propagators, interactions, and amplitudes.\n",
    "- It also provides LaTeX formatting for expressions and graph drawing for Feynman diagrams."
   ]
  },
  {
   "cell_type": "code",
   "execution_count": 4,
   "metadata": {},
   "outputs": [],
   "source": [
    "#Initialize the interface for input/display of amplitude data.\n",
    "io = Interface(momentum_symbols,polarization_symbols,coefficient_symbols,coefficient_display_map)\n",
    "\n",
    "#Define convenience functions.\n",
    "def mring(expr):\n",
    "    return io.ExprToMRing(expr)\n",
    "def mrat(num,den):\n",
    "    return io.ExprToMRational(num,den)\n",
    "def mprint(malg):\n",
    "    io.Print(malg)"
   ]
  },
  {
   "cell_type": "markdown",
   "metadata": {},
   "source": [
    "### Aside: MRing and MRational\n",
    "- We will see that AmpliTools doesn't deal directly with SymPy expressions. \n",
    "- Much of the heavy lifting in these calculations isn't rational algebra per se, but reductions of rational expressions to canonical form under flavor symmetry orbits and kinematic constraints.\n",
    "- To smoothly integrate these operations with the usual arithmetic on a rational field, SymPy polynomials are wrapped in MRing objects (\"Mandelstam Ring\"), which in turn are wrapped in MRational objects (\"Mandelstam Rational\").\n",
    "- MRing objects are elements of a polynomial ring generated by products of Mandelstam invariants and flavor tensors, with coefficients in the Gaussian rationals.\n",
    "- Various MRing methods implement flavor and kinematic reductions, but all the expected ring operators have been overloaded, so MRings are \"transparently polynomial\".\n",
    "- MRational objects are elements of the fraction field of MRing. AmpliTools represents tree amplitudes as MRationals. In the same spirit as MRing, MRational provides methods for reduction and manipulation of flavor and kinematics, while overloading the expected field operators, so MRationals are \"transparently rational\"."
   ]
  },
  {
   "cell_type": "markdown",
   "metadata": {},
   "source": [
    "### Interaction operators and Feynman Rules\n",
    "- Lagrangian operators involve flavor tensors and momenta/polarizations (in the spin 1+ case).\n",
    "- The FeynmanRules class takes a minimal kinematic basis and the TensorSymmetries object at initialization.\n",
    "- Its method RegisterPropagator/RegisterInteraction then converts an expression containing momenta, polarizations, and flavor tensors into a vertex or propagator.\n",
    "- This amounts to symmetrizing the fields and reducing the result using flavor symmetries and momentum conservation constraints.\n",
    "- We won't worry about derivative coupling or polarizations in this example."
   ]
  },
  {
   "cell_type": "markdown",
   "metadata": {},
   "source": [
    "### Example: Cubic Operator\n",
    "Below, the cubic interaction is determined by:\n",
    "1. The MRing expr_A, which contains the flavor and derivative (kinematic) structure of the operator (though there are no derivative couplings in this example),\n",
    "2. the \"valence list\" ['phi','phi','phi'], encoding the field operators which comprise the interaction operator (all fields are scalars in this example, but when interactions couple particles of different spins, the valence lists keep contractions straight.\n",
    "3. the highest spin among the fields in the valence list (max_spin=0 here),\n",
    "4. the perturbative order of the interaction (relative to the free lagrangian), and finally\n",
    "5. an interaction label which is displayed on top of the corresponding vertices when drawing Feynman diagrams."
   ]
  },
  {
   "cell_type": "code",
   "execution_count": 5,
   "metadata": {},
   "outputs": [],
   "source": [
    "#Construct Feynman rules for each propagator and interaction operator.\n",
    "feynrules = FeynmanRules(tensym.tensor_symmetries,io)\n",
    "\n",
    "#Register Propagators\n",
    "p1,p2 = symbols('p1 p2')\n",
    "m_f1 = symbols('m_{f1}')\n",
    "phiprop = mrat(mring(I*ID_f1f2),{mring(p1*p1-m_f1**2):1})\n",
    "feynrules.RegisterPropagator(phiprop,\"phi\")\n",
    "\n",
    "#Register interactions\n",
    "expr_A = mring(A_f1f2f3)\n",
    "feynrules.RegisterInteraction(expr_A,['phi','phi','phi'],0,1,\"A\")\n",
    "\n",
    "expr_B = mring(B_f1f2f3f4)\n",
    "feynrules.RegisterInteraction(expr_B,['phi','phi','phi','phi'],0,2,\"B\")"
   ]
  },
  {
   "cell_type": "markdown",
   "metadata": {
    "tags": []
   },
   "source": [
    "## 4-Point Tree Amplitude\n",
    "### Constructing the Amplitude\n",
    "- Assuming a pure-scalar scattering process, the external legs are tagged accordingly.\n",
    "- Finally, calculation begins with a call to ComputeTreeAmplitude() from the Graph module.\n",
    "- Given the Feynman rules and symmetries prepared above, AmpliTools performs the first three steps of the calculation: identifying diagram topologies, building symbolic expressions by dressing those topologies with the Feynman rules, and reducing the resulting expression modulo flavor tensor symmetries (also known as \"index canonicalization\").\n",
    "- The final two steps: reduction mod kinematic constraints and output, are done separately in the next cell. It is useful to separate the kinematic manipulations so one has the option of working with expressions for the amplitudes lifted to off-shell kinematic space."
   ]
  },
  {
   "cell_type": "code",
   "execution_count": null,
   "metadata": {
    "scrolled": true
   },
   "outputs": [],
   "source": [
    "npoint = 4\n",
    "external_legs = ['phi' for i in range(0,npoint)]\n",
    "\n",
    "amplitude = ComputeTreeAmplitude(feynrules.interactions,feynrules.propagators,external_legs,tensym.tensor_symmetries)"
   ]
  },
  {
   "cell_type": "code",
   "execution_count": null,
   "metadata": {
    "tags": []
   },
   "outputs": [],
   "source": [
    "mprint(amplitude)"
   ]
  },
  {
   "cell_type": "markdown",
   "metadata": {},
   "source": [
    "### Kinematic Reductions\n",
    "- We reduce the amplitude MRational by kinematic constraints and send Mandelstam invariants of the form $p_i \\cdot p_i$ to SymPy symbols $m^2_i$.\n",
    "- Mass symbols $m^2_i$ are converted to the same f#/b# notation ($m^2_{fi}$ or $m^2_{bi}$) as the flavor tensors by GroupMasses()\n",
    "- Finally, the amplitude is typeset and displayed."
   ]
  },
  {
   "cell_type": "code",
   "execution_count": null,
   "metadata": {
    "tags": []
   },
   "outputs": [],
   "source": [
    "#Construct kinematic basis for scattering of spin-0 particles in arbitary spacetime dimension\n",
    "npoint = 4\n",
    "spin = 0\n",
    "basis = Basis(spin,npoint)\n",
    "\n",
    "#Reduce and simplify expression using on-shell and momentum conservation constraints.\n",
    "amplitude_os = amplitude.OnShell(basis).EjectMasses(basis)\n",
    "\n",
    "#Finally, associate propagating and external masses with their corresponding flavor indices.\n",
    "#Indices (f#) are free (external leg labels).\n",
    "#Indices (b#) are bound (propagator leg labels). \n",
    "for i in range(npoint):\n",
    "    amplitude_os = amplitude_os.GroupMasses({(mass_symbols[i],):mass_tensors[i]},basis)\n",
    "\n",
    "mprint(amplitude_os)"
   ]
  },
  {
   "cell_type": "markdown",
   "metadata": {},
   "source": [
    "- N.B. There is an implicit summation symbol before each rational term running over all bound indices present in the term. In particular, we are NOT using Einstein summation convention, which would suggest summation of repeated flavor indicesin the numerator factors by themselves (leaving a hanging bound index in the denominator).\n",
    "- The first term above contains the contribution of the four-point contact operator.\n",
    "- The final three terms are the s,t,u channel permutations of the two-trivalent-vertex tree topology. Summation of each rational term over the bound index simply includes diagrams for each scalar flavor that could propagate between the two vertices."
   ]
  },
  {
   "cell_type": "code",
   "execution_count": null,
   "metadata": {},
   "outputs": [],
   "source": [
    "## 5-Point Tree Amplitude"
   ]
  },
  {
   "cell_type": "code",
   "execution_count": null,
   "metadata": {},
   "outputs": [],
   "source": [
    "npoint = 5\n",
    "external_legs = ['phi' for i in range(0,npoint)]\n",
    "\n",
    "amplitude = ComputeTreeAmplitude(feynrules.interactions,feynrules.propagators,external_legs,tensym.tensor_symmetries)"
   ]
  },
  {
   "cell_type": "code",
   "execution_count": null,
   "metadata": {},
   "outputs": [],
   "source": [
    "mprint(amplitude)"
   ]
  },
  {
   "cell_type": "code",
   "execution_count": null,
   "metadata": {
    "tags": []
   },
   "outputs": [],
   "source": [
    "npoint = 5\n",
    "spin = 0\n",
    "basis = Basis(spin,npoint)\n",
    "\n",
    "for _ in tqdm([1]):\n",
    "    amplitude_os = amplitude.OnShell(basis).EjectMasses(basis)\n",
    "    for i in range(npoint):\n",
    "        amplitude_os = amplitude_os.GroupMasses({(mass_symbols[i],):mass_tensors[i]},basis)\n",
    "\n",
    "mprint(amplitude_os)"
   ]
  },
  {
   "cell_type": "code",
   "execution_count": null,
   "metadata": {
    "tags": []
   },
   "outputs": [],
   "source": [
    "npoint = 6\n",
    "external_legs = ['phi' for i in range(0,npoint)]\n",
    "\n",
    "amplitude = ComputeTreeAmplitude(feynrules.interactions,feynrules.propagators,external_legs,tensym.tensor_symmetries)"
   ]
  }
 ],
 "metadata": {
  "kernelspec": {
   "display_name": "Python 3 (ipykernel)",
   "language": "python",
   "name": "python3"
  },
  "language_info": {
   "codemirror_mode": {
    "name": "ipython",
    "version": 3
   },
   "file_extension": ".py",
   "mimetype": "text/x-python",
   "name": "python",
   "nbconvert_exporter": "python",
   "pygments_lexer": "ipython3",
   "version": "3.9.2"
  }
 },
 "nbformat": 4,
 "nbformat_minor": 4
}
